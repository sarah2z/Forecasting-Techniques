{
 "cells": [
  {
   "cell_type": "code",
   "execution_count": 1,
   "metadata": {},
   "outputs": [],
   "source": [
    "import numpy as np\n",
    "import pandas as pd\n",
    "import matplotlib.pyplot as plt\n",
    "import matplotlib.colors as mcolors\n",
    "import random\n",
    "import math\n",
    "import time\n",
    "from matplotlib import pyplot\n",
    "\n",
    "from sklearn.linear_model import LinearRegression\n",
    "from sklearn.model_selection import train_test_split\n",
    "from sklearn.preprocessing import PolynomialFeatures\n",
    "from sklearn.svm import SVR\n",
    "from sklearn.metrics import mean_squared_error, mean_absolute_error\n",
    "\n",
    "import datetime\n",
    "import operator\n",
    "plt.style.use('fivethirtyeight')\n",
    "%matplotlib inline"
   ]
  },
  {
   "cell_type": "code",
   "execution_count": 2,
   "metadata": {},
   "outputs": [],
   "source": [
    "# Store the dataset\n",
    "confirmed_cases = pd.read_csv(\"time_series_covid19_confirmed_global.csv\")\n",
    "cols = confirmed_cases.keys()\n",
    "confirmed_case = confirmed_cases.loc[:,cols[4]:cols[-1]]\n",
    "\n",
    "# Get a dataset with the dates and the total covid cases for that day\n",
    "# ts = timeseries\n",
    "confirmed_ts = confirmed_case.sum(axis=0)\n",
    "confirmed_df = pd.DataFrame(confirmed_ts)"
   ]
  },
  {
   "cell_type": "code",
   "execution_count": 3,
   "metadata": {},
   "outputs": [],
   "source": [
    "#Convert dates in dataframe to datetime values\n",
    "confirmed_df.index.names = [\"Dates\"]\n",
    "confirmed_df.reset_index(inplace=True)\n",
    "confirmed_df.Dates = pd.to_datetime(confirmed_df.Dates)\n",
    "confirmed_df['Dates'].dt.strftime('%m/%d/%Y')\n",
    "confirmed_df.columns = [\"Dates\",\"Cases\"]"
   ]
  },
  {
   "cell_type": "code",
   "execution_count": 4,
   "metadata": {},
   "outputs": [],
   "source": [
    "confirmed_df2 = confirmed_df.set_index('Dates')"
   ]
  },
  {
   "cell_type": "code",
   "execution_count": 5,
   "metadata": {},
   "outputs": [],
   "source": [
    "# Create Training and Test\n",
    "train, test = train_test_split(confirmed_df2, test_size = 0.25, shuffle=False)\n",
    "# x_train, x_test, y_train, y_test = train_test_split(confirmed_df2.index, confirmed_df2.Cases, test_size = 0.25, shuffle=False)"
   ]
  },
  {
   "cell_type": "code",
   "execution_count": 6,
   "metadata": {},
   "outputs": [],
   "source": [
    "from pandas.plotting import autocorrelation_plot\n",
    "from statsmodels.graphics.tsaplots import plot_acf, plot_pacf"
   ]
  },
  {
   "cell_type": "code",
   "execution_count": 7,
   "metadata": {},
   "outputs": [
    {
     "data": {
      "image/png": "[encoded data removed]",
      "text/plain": [
       "<Figure size 432x288 with 1 Axes>"
      ]
     },
     "metadata": {
      "needs_background": "light"
     },
     "output_type": "display_data"
    }
   ],
   "source": [
    "# Autocorrelation plot for the cases over time\n",
    "plot_acf(confirmed_df.Cases)\n",
    "plt.show()"
   ]
  },
  {
   "cell_type": "code",
   "execution_count": 48,
   "metadata": {
    "scrolled": true
   },
   "outputs": [
    {
     "data": {
      "text/plain": [
       "630"
      ]
     },
     "execution_count": 48,
     "metadata": {},
     "output_type": "execute_result"
    }
   ],
   "source": [
    "len(confirmed_df)"
   ]
  },
  {
   "cell_type": "code",
   "execution_count": 8,
   "metadata": {
    "scrolled": true
   },
   "outputs": [],
   "source": [
    "# We will restructure our dataset as a supervised learning problem\n",
    "# This is done by using the value at the previous time step to predict the value at the next time-step.\n",
    "# Looking at the already developed function, we can easily apply it to our dataset\n",
    "\n",
    "def create_dataset(df, previous=1):\n",
    "    dataX, dataY = [], []\n",
    "    for i in range(len(df)-previous-1):\n",
    "        a = df.iloc[i:(i+previous), 0]\n",
    "        dataX.append(a)\n",
    "        dataY.append(df.iloc[i + previous, 0])\n",
    "    return np.array(dataX), np.array(dataY)"
   ]
  },
  {
   "cell_type": "code",
   "execution_count": 9,
   "metadata": {},
   "outputs": [],
   "source": [
    "# Create the lookback period and use the function above to get our training and testing sets\n",
    "# x_lag = the number of rows we want to use to predict next\n",
    "x_lag = 28\n",
    "X_train, Y_train = create_dataset(train, x_lag)\n",
    "X_test, Y_test = create_dataset(test, x_lag)"
   ]
  },
  {
   "cell_type": "code",
   "execution_count": 10,
   "metadata": {},
   "outputs": [],
   "source": [
    "from xgboost import XGBRegressor"
   ]
  },
  {
   "cell_type": "code",
   "execution_count": 11,
   "metadata": {},
   "outputs": [
    {
     "data": {
      "text/plain": [
       "XGBRegressor(base_score=0.5, booster='gbtree', colsample_bylevel=1,\n",
       "             colsample_bynode=1, colsample_bytree=1, enable_categorical=False,\n",
       "             gamma=0, gpu_id=-1, importance_type=None,\n",
       "             interaction_constraints='', learning_rate=0.300000012,\n",
       "             max_delta_step=0, max_depth=6, min_child_weight=1, missing=nan,\n",
       "             monotone_constraints='()', n_estimators=1000, n_jobs=4,\n",
       "             num_parallel_tree=1, predictor='auto', random_state=0, reg_alpha=0,\n",
       "             reg_lambda=1, scale_pos_weight=1, subsample=1, tree_method='exact',\n",
       "             validate_parameters=1, verbosity=None)"
      ]
     },
     "execution_count": 11,
     "metadata": {},
     "output_type": "execute_result"
    }
   ],
   "source": [
    "# Run the model on our training set \n",
    "model_train = XGBRegressor(objective='reg:squarederror', n_estimators=1000)\n",
    "model_train.fit(X_train, Y_train)"
   ]
  },
  {
   "cell_type": "code",
   "execution_count": 12,
   "metadata": {},
   "outputs": [],
   "source": [
    "# Make predictions on the test data\n",
    "pred_train = model_train.predict(X_test)"
   ]
  },
  {
   "cell_type": "code",
   "execution_count": 13,
   "metadata": {},
   "outputs": [],
   "source": [
    "Y_test=Y_test.reshape(-1,1)\n",
    "pred_train=pred_train.reshape(-1,1)"
   ]
  },
  {
   "cell_type": "code",
   "execution_count": 14,
   "metadata": {},
   "outputs": [
    {
     "name": "stdout",
     "output_type": "stream",
     "text": [
      "RMSE: 52310806.006721\n",
      "MAPE 0.22790276430552633\n"
     ]
    }
   ],
   "source": [
    "# look at the RMSE and MAPE\n",
    "from math import sqrt\n",
    "mse = mean_squared_error(Y_test, pred_train)\n",
    "rmse = sqrt(mse)\n",
    "mape = np.mean(np.abs(pred_train - Y_test)/np.abs(Y_test))\n",
    "print('RMSE: %f' % rmse)\n",
    "print(\"MAPE\", mape)"
   ]
  },
  {
   "cell_type": "markdown",
   "metadata": {},
   "source": [
    "# Changing the x_lags and n_estimators to see if it reduces the RMSE\n"
   ]
  },
  {
   "cell_type": "code",
   "execution_count": 25,
   "metadata": {},
   "outputs": [],
   "source": [
    "# Lookback period = 10\n",
    "x_lag = 10\n",
    "X_train, Y_train = create_dataset(train, x_lag)\n",
    "X_test, Y_test = create_dataset(test, x_lag)"
   ]
  },
  {
   "cell_type": "code",
   "execution_count": 27,
   "metadata": {},
   "outputs": [
    {
     "data": {
      "text/plain": [
       "XGBRegressor(base_score=0.5, booster='gbtree', colsample_bylevel=1,\n",
       "             colsample_bynode=1, colsample_bytree=1, enable_categorical=False,\n",
       "             gamma=0, gpu_id=-1, importance_type=None,\n",
       "             interaction_constraints='', learning_rate=0.300000012,\n",
       "             max_delta_step=0, max_depth=6, min_child_weight=1, missing=nan,\n",
       "             monotone_constraints='()', n_estimators=1000, n_jobs=4,\n",
       "             num_parallel_tree=1, predictor='auto', random_state=0, reg_alpha=0,\n",
       "             reg_lambda=1, scale_pos_weight=1, subsample=1, tree_method='exact',\n",
       "             validate_parameters=1, verbosity=None)"
      ]
     },
     "execution_count": 27,
     "metadata": {},
     "output_type": "execute_result"
    }
   ],
   "source": [
    "model2 = XGBRegressor(objective='reg:squarederror', n_estimators=1000)\n",
    "model2.fit(X_train, Y_train)"
   ]
  },
  {
   "cell_type": "code",
   "execution_count": 28,
   "metadata": {},
   "outputs": [],
   "source": [
    "# Make predictions on the test data\n",
    "pred2 = model2.predict(X_test)"
   ]
  },
  {
   "cell_type": "code",
   "execution_count": 29,
   "metadata": {},
   "outputs": [],
   "source": [
    "Y_test=Y_test.reshape(-1,1)\n",
    "pred2=pred2.reshape(-1,1)"
   ]
  },
  {
   "cell_type": "code",
   "execution_count": 30,
   "metadata": {},
   "outputs": [
    {
     "name": "stdout",
     "output_type": "stream",
     "text": [
      "RMSE: 49206183.996408\n",
      "MAPE 0.20904014878406196\n"
     ]
    }
   ],
   "source": [
    "# We see a drop in the RMSE with decreasing x_lags. \n",
    "# Repeat same steps with decreasing the n_estimators to use less number of trees (optimization)\n",
    "mse = mean_squared_error(Y_test, pred2)\n",
    "rmse = sqrt(mse)\n",
    "mape = np.mean(np.abs(pred2 - Y_test)/np.abs(Y_test))\n",
    "print('RMSE: %f' % rmse)\n",
    "print(\"MAPE\", mape)"
   ]
  },
  {
   "cell_type": "code",
   "execution_count": 31,
   "metadata": {},
   "outputs": [],
   "source": [
    "# n_estimators = 100 with lookback period = 10\n",
    "x_lag = 10\n",
    "X_train, Y_train = create_dataset(train, x_lag)\n",
    "X_test, Y_test = create_dataset(test, x_lag)"
   ]
  },
  {
   "cell_type": "code",
   "execution_count": 32,
   "metadata": {},
   "outputs": [
    {
     "data": {
      "text/plain": [
       "XGBRegressor(base_score=0.5, booster='gbtree', colsample_bylevel=1,\n",
       "             colsample_bynode=1, colsample_bytree=1, enable_categorical=False,\n",
       "             gamma=0, gpu_id=-1, importance_type=None,\n",
       "             interaction_constraints='', learning_rate=0.300000012,\n",
       "             max_delta_step=0, max_depth=6, min_child_weight=1, missing=nan,\n",
       "             monotone_constraints='()', n_estimators=100, n_jobs=4,\n",
       "             num_parallel_tree=1, predictor='auto', random_state=0, reg_alpha=0,\n",
       "             reg_lambda=1, scale_pos_weight=1, subsample=1, tree_method='exact',\n",
       "             validate_parameters=1, verbosity=None)"
      ]
     },
     "execution_count": 32,
     "metadata": {},
     "output_type": "execute_result"
    }
   ],
   "source": [
    "model3 = XGBRegressor(objective='reg:squarederror', n_estimators=100)\n",
    "model3.fit(X_train, Y_train)"
   ]
  },
  {
   "cell_type": "code",
   "execution_count": 33,
   "metadata": {},
   "outputs": [],
   "source": [
    "# Make predictions on the test data\n",
    "pred3 = model3.predict(X_test)"
   ]
  },
  {
   "cell_type": "code",
   "execution_count": 34,
   "metadata": {},
   "outputs": [],
   "source": [
    "Y_test=Y_test.reshape(-1,1)\n",
    "pred3=pred3.reshape(-1,1)"
   ]
  },
  {
   "cell_type": "code",
   "execution_count": 35,
   "metadata": {},
   "outputs": [
    {
     "name": "stdout",
     "output_type": "stream",
     "text": [
      "RMSE: 49238847.671888\n",
      "MAPE 0.20922617371536434\n"
     ]
    }
   ],
   "source": [
    "# There is not a significant difference. This suggests that we can use our model with 100 trees just fine to make predictions.\n",
    "# When changing the n_estimators to 40, we see the RMSE rose from 49238847.67 to 49366069.707 ... \n",
    "# ... which is pretty significant. This suggests that a minimum of 50 trees should be used in building this model\n",
    "mse = mean_squared_error(Y_test, pred3)\n",
    "rmse = sqrt(mse)\n",
    "mape = np.mean(np.abs(pred3 - Y_test)/np.abs(Y_test))\n",
    "print('RMSE: %f' % rmse)\n",
    "print(\"MAPE\", mape)"
   ]
  }
 ],
 "metadata": {
  "kernelspec": {
   "display_name": "Python 3",
   "language": "python",
   "name": "python3"
  },
  "language_info": {
   "codemirror_mode": {
    "name": "ipython",
    "version": 3
   },
   "file_extension": ".py",
   "mimetype": "text/x-python",
   "name": "python",
   "nbconvert_exporter": "python",
   "pygments_lexer": "ipython3",
   "version": "3.7.1"
  }
 },
 "nbformat": 4,
 "nbformat_minor": 2
}
